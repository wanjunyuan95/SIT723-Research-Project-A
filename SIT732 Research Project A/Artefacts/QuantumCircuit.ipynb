{
 "cells": [
  {
   "cell_type": "code",
   "execution_count": 15,
   "metadata": {},
   "outputs": [],
   "source": [
    "# Qiskit packages\n",
    "import networkx as nx\n",
    "from qiskit import BasicAer, IBMQ\n",
    "from qiskit.quantum_info import Pauli\n",
    "from qiskit.utils import QuantumInstance, algorithm_globals\n",
    "from qiskit.algorithms import NumPyMinimumEigensolver, VQE\n",
    "from qiskit.circuit.library import TwoLocal\n",
    "from qiskit.algorithms.optimizers import SPSA\n",
    "import qiskit as qk\n",
    "from qiskit.algorithms import QAOA\n",
    "from qiskit.algorithms.optimizers import COBYLA\n",
    "from qiskit.opflow import Z, I\n",
    "from ibm_quantum_widgets import CircuitComposer\n",
    "from qiskit import QuantumRegister, ClassicalRegister, QuantumCircuit\n",
    "from numpy import pi\n",
    "import qiskit as qk\n",
    "import numpy as np\n",
    "import matplotlib.pyplot as plt\n",
    "from qiskit import execute"
   ]
  },
  {
   "cell_type": "code",
   "execution_count": 5,
   "metadata": {},
   "outputs": [
    {
     "data": {
      "text/plain": [
       "(array([[4.17022005e-01, 7.20324493e-01],\n",
       "        [1.14374817e-04, 3.02332573e-01],\n",
       "        [1.46755891e-01, 9.23385948e-02],\n",
       "        [1.86260211e-01, 3.45560727e-01],\n",
       "        [3.96767474e-01, 5.38816734e-01]]),\n",
       " array([[2, 4],\n",
       "        [3, 4],\n",
       "        [2, 4],\n",
       "        [2, 4],\n",
       "        [1, 1],\n",
       "        [0, 1],\n",
       "        [1, 1],\n",
       "        [1, 0],\n",
       "        [4, 1],\n",
       "        [0, 0]]))"
      ]
     },
     "execution_count": 5,
     "metadata": {},
     "output_type": "execute_result"
    }
   ],
   "source": [
    "# Create a quantum circuit function to solve flight route optimisation problem and evaluate the results\n",
    "def arp_circuit(nodes, routes, num_qubits, num_ancillas, depth, seed=None):\n",
    "    \"\"\"Create a quantum circuit to solve the ARP problem.\"\"\"\n",
    "    if seed is not None:\n",
    "        np.random.seed(seed)\n",
    "    qr = qk.QuantumRegister(num_qubits)\n",
    "    cr = qk.ClassicalRegister(num_qubits)\n",
    "    qc = qk.QuantumCircuit(qr, cr)\n",
    "    # apply hadamard gates to all qubits\n",
    "    for i in range(num_qubits):\n",
    "        qc.h(qr[i])\n",
    "    # apply barrier\n",
    "    qc.barrier()\n",
    "    # apply random rotations to all qubits\n",
    "    for i in range(num_qubits):\n",
    "        qc.rx(2 * np.pi * np.random.rand(), qr[i])\n",
    "        qc.ry(2 * np.pi * np.random.rand(), qr[i])\n",
    "        qc.rz(2 * np.pi * np.random.rand(), qr[i])\n",
    "    # apply barrier\n",
    "    qc.barrier()\n",
    "    # repeat the following `depth` times\n",
    "    for _ in range(depth):\n",
    "        # apply CNOTs\n",
    "        for i in range(num_qubits):\n",
    "            for j in range(i + 1, num_qubits):\n",
    "                qc.cx(qr[i], qr[j])\n",
    "        # apply barrier\n",
    "        qc.barrier()\n",
    "        # apply random rotations to all qubits\n",
    "        for i in range(num_qubits):\n",
    "            qc.rx(2 * np.pi * np.random.rand(), qr[i])\n",
    "            qc.ry(2 * np.pi * np.random.rand(), qr[i])\n",
    "            qc.rz(2 * np.pi * np.random.rand(), qr[i])\n",
    "        # apply barrier\n",
    "        qc.barrier()\n",
    "    # apply CNOTs\n",
    "    for i in range(num_qubits):\n",
    "        for j in range(i + 1, num_qubits):\n",
    "            qc.cx(qr[i], qr[j])\n",
    "    # apply barrier\n",
    "    qc.barrier()\n",
    "    # measure all qubits\n",
    "    for i in range(num_qubits):\n",
    "        qc.measure(qr[i], cr[i])\n",
    "    return qc\n",
    "\n",
    "# create a randomly generated flight route data set\n",
    "def generate_data(num_nodes, num_routes, seed=None):\n",
    "    \"\"\"Generate a random flight route data set.\"\"\"\n",
    "    if seed is not None:\n",
    "        np.random.seed(seed)\n",
    "    nodes = np.random.rand(num_nodes, 2)\n",
    "    routes = np.random.randint(0, num_nodes, (num_routes, 2))\n",
    "    return nodes, routes\n",
    "\n",
    "generate_data(5, 10, seed=1)"
   ]
  },
  {
   "cell_type": "code",
   "execution_count": 16,
   "metadata": {},
   "outputs": [
    {
     "name": "stdout",
     "output_type": "stream",
     "text": [
      "{'100': 271, '110': 335, '000': 234, '011': 21, '111': 16, '101': 36, '010': 83, '001': 4}\n"
     ]
    },
    {
     "data": {
      "image/png": "[encoded data removed]",
      "text/plain": [
       "<Figure size 576x432 with 1 Axes>"
      ]
     },
     "metadata": {
      "needs_background": "light"
     },
     "output_type": "display_data"
    }
   ],
   "source": [
    "# Run the function and evaluate it\n",
    "num_nodes = 3\n",
    "num_routes = 5\n",
    "nodes, routes = generate_data(num_nodes, num_routes, seed=1)\n",
    "num_qubits = num_nodes * (num_nodes - 1) // 2 # 3\n",
    "num_ancillas = 0\n",
    "depth = 1\n",
    "qc = arp_circuit(nodes, routes, num_qubits, num_ancillas, depth, seed=1)\n",
    "backend = qk.BasicAer.get_backend('qasm_simulator')\n",
    "job = execute(qc, backend, shots=1000)\n",
    "result = job.result()\n",
    "counts = result.get_counts(qc)\n",
    "print(counts)\n",
    "\n",
    "\n",
    "\n",
    "# plot a histogram\n",
    "def plot_histogram(data, title=None, figsize=(8, 6)):\n",
    "    \"\"\"Plot a histogram.\"\"\"\n",
    "    plt.figure(figsize=figsize)\n",
    "    plt.bar(range(len(data)), data.values(), align='center')\n",
    "    plt.xticks(range(len(data)), data.keys())\n",
    "    plt.xlabel('Value')\n",
    "    plt.ylabel('Frequency')\n",
    "    if title is not None:\n",
    "        plt.title(title)\n",
    "    plt.show()\n",
    "    \n",
    "plot_histogram(counts)"
   ]
  },
  {
   "cell_type": "code",
   "execution_count": 9,
   "metadata": {},
   "outputs": [
    {
     "data": {
      "image/png": "[encoded data removed]",
      "text/plain": [
       "<Figure size 1363.78x264.88 with 1 Axes>"
      ]
     },
     "execution_count": 9,
     "metadata": {},
     "output_type": "execute_result"
    }
   ],
   "source": [
    "# Visualise the solution\n",
    "qc.draw(output='mpl')"
   ]
  },
  {
   "cell_type": "markdown",
   "metadata": {},
   "source": []
  }
 ],
 "metadata": {
  "kernelspec": {
   "display_name": "Python 3 (ipykernel)",
   "language": "python",
   "name": "python3"
  },
  "language_info": {
   "codemirror_mode": {
    "name": "ipython",
    "version": 3
   },
   "file_extension": ".py",
   "mimetype": "text/x-python",
   "name": "python",
   "nbconvert_exporter": "python",
   "pygments_lexer": "ipython3",
   "version": "3.8.13"
  },
  "widgets": {
   "application/vnd.jupyter.widget-state+json": {
    "state": {},
    "version_major": 2,
    "version_minor": 0
   }
  }
 },
 "nbformat": 4,
 "nbformat_minor": 4
}
